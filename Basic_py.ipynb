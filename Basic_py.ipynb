{
  "nbformat": 4,
  "nbformat_minor": 0,
  "metadata": {
    "colab": {
      "provenance": []
    },
    "kernelspec": {
      "name": "python3",
      "display_name": "Python 3"
    },
    "language_info": {
      "name": "python"
    }
  },
  "cells": [
    {
      "cell_type": "markdown",
      "source": [
        "**Basic Python** **Assignmment**"
      ],
      "metadata": {
        "id": "wA3-4e1SGtaK"
      }
    },
    {
      "cell_type": "markdown",
      "source": [
        "Q 1.Explain the key features of Python that make it a popular choice for programming\n",
        "- explanation of Python's key features:\n",
        "\n",
        "Readability and Simplicity:\n",
        "\n",
        "Python's syntax is designed to be easy to read and understand, resembling natural language, which makes it easier for developers to learn and write code.\n",
        "\n",
        "Versatility:\n",
        "\n",
        "Python is used in a wide range of applications, including web development with frameworks like Django and Flask, data science with libraries like NumPy, Pandas, and Scikit-learn, machine learning with TensorFlow and PyTorch, automation, and scripting.\n",
        "\n",
        "Extensive Libraries:\n",
        "Python boasts a vast collection of libraries and frameworks that simplify common programming tasks, such as data analysis, web development, and machine learning.\n",
        "\n",
        "Cross-Platform Compatibility:\n",
        "Python code can run seamlessly on various operating systems, including Windows, macOS, and Linux, making it a portable and flexible choice.\n",
        "\n",
        "Object-Oriented Programming:\n",
        "Python supports object-oriented programming , which allows developers to organize code into reusable objects, promoting modularity and maintainability.\n",
        "\n",
        "Open Source and Free:\n",
        "Python is an open-source language, meaning it's free to use, modify, and distribute, fostering a large and active community.\n",
        "\n",
        "\n",
        "Q 2.Describe the role of predefined keywords in Python and provide examples of how they are used in a\n",
        "program\n",
        "\n",
        "-In Python, predefined keywords are reserved words with specific meanings that define the language's syntax and structure, forming the building blocks of programs. They cannot be used as variable or function names and are crucial for tasks like defining control flow, creating functions, and handling data.\n"
      ],
      "metadata": {
        "id": "ZKN0u6XOHNxG"
      }
    },
    {
      "cell_type": "code",
      "source": [
        "#Here are some examples of Python keywords and how they're used\n",
        "#if, else, elif: Used for conditional statements to execute different code blocks based on conditions."
      ],
      "metadata": {
        "id": "z9QGu8NSKht9"
      },
      "execution_count": 2,
      "outputs": []
    },
    {
      "cell_type": "code",
      "source": [
        "    age = 18\n",
        "    if age >= 18:\n",
        "        print(\"You are eligible to vote.\")\n",
        "    else:\n",
        "        print(\"You are not eligible to vote.\")"
      ],
      "metadata": {
        "colab": {
          "base_uri": "https://localhost:8080/"
        },
        "id": "0AWTlZP5K1O9",
        "outputId": "aa764e94-13fa-440e-ed40-e26f67e66ce5"
      },
      "execution_count": 3,
      "outputs": [
        {
          "output_type": "stream",
          "name": "stdout",
          "text": [
            "You are eligible to vote.\n"
          ]
        }
      ]
    },
    {
      "cell_type": "code",
      "source": [
        "#for, while: Used for creating loops to repeat a block of code multiple times."
      ],
      "metadata": {
        "id": "bNszZffDLF9O"
      },
      "execution_count": 5,
      "outputs": []
    },
    {
      "cell_type": "code",
      "source": [
        "    # for loop\n",
        "    for i in range(5):\n",
        "        print(i)\n",
        "\n",
        "    # while loop\n",
        "    count = 0\n",
        "    while count < 3:\n",
        "        print(count)\n",
        "        count += 1"
      ],
      "metadata": {
        "colab": {
          "base_uri": "https://localhost:8080/"
        },
        "id": "s9vISidxLJkM",
        "outputId": "e7ffbcc7-1852-4d9b-e9c9-b28e4cf7f6fb"
      },
      "execution_count": 6,
      "outputs": [
        {
          "output_type": "stream",
          "name": "stdout",
          "text": [
            "0\n",
            "1\n",
            "2\n",
            "3\n",
            "4\n",
            "0\n",
            "1\n",
            "2\n"
          ]
        }
      ]
    },
    {
      "cell_type": "code",
      "source": [
        "#def: Used to define functions."
      ],
      "metadata": {
        "id": "LK7YQx8pLP5s"
      },
      "execution_count": 7,
      "outputs": []
    },
    {
      "cell_type": "code",
      "source": [
        "    def greet(name):\n",
        "        print(f\"Hello, {name}!\")\n",
        "\n",
        "    greet(\"Alice\")"
      ],
      "metadata": {
        "colab": {
          "base_uri": "https://localhost:8080/"
        },
        "id": "bnY4SOFPLfBM",
        "outputId": "0310f521-a67b-4a89-d3d4-119e86f95dff"
      },
      "execution_count": 8,
      "outputs": [
        {
          "output_type": "stream",
          "name": "stdout",
          "text": [
            "Hello, Alice!\n"
          ]
        }
      ]
    },
    {
      "cell_type": "code",
      "source": [
        "#class: Used to define classes (blueprints for creating objects"
      ],
      "metadata": {
        "id": "srWHBW9_Lhwi"
      },
      "execution_count": 9,
      "outputs": []
    },
    {
      "cell_type": "code",
      "source": [
        "    class Dog:\n",
        "        def __init__(self, name, breed):\n",
        "            self.name = name\n",
        "            self.breed = breed\n",
        "\n",
        "        def bark(self):\n",
        "            print(\"Woof!\")\n",
        "\n",
        "    my_dog = Dog(\"Buddy\", \"Golden Retriever\")\n",
        "    print(my_dog.name)\n",
        "    my_dog.bark()"
      ],
      "metadata": {
        "colab": {
          "base_uri": "https://localhost:8080/"
        },
        "id": "PUzEoq1GLnvu",
        "outputId": "9a06a5dc-8e95-482b-8171-b37456835f9a"
      },
      "execution_count": 10,
      "outputs": [
        {
          "output_type": "stream",
          "name": "stdout",
          "text": [
            "Buddy\n",
            "Woof!\n"
          ]
        }
      ]
    },
    {
      "cell_type": "code",
      "source": [
        "#True, False, None: Used for boolean values and representing the absence of a value."
      ],
      "metadata": {
        "id": "0HZ-B6NtLpwZ"
      },
      "execution_count": 11,
      "outputs": []
    },
    {
      "cell_type": "code",
      "source": [
        "    is_raining = True\n",
        "    if is_raining:\n",
        "        print(\"Take an umbrella.\")\n",
        "    else:\n",
        "        print(\"Enjoy the sunshine!\")"
      ],
      "metadata": {
        "colab": {
          "base_uri": "https://localhost:8080/"
        },
        "id": "5d8bAJm6L5Wp",
        "outputId": "8c236761-5479-4944-9dc0-61863bba0251"
      },
      "execution_count": 12,
      "outputs": [
        {
          "output_type": "stream",
          "name": "stdout",
          "text": [
            "Take an umbrella.\n"
          ]
        }
      ]
    },
    {
      "cell_type": "code",
      "source": [
        "#import: Used to import modules"
      ],
      "metadata": {
        "id": "lEMGdymHL8H8"
      },
      "execution_count": 13,
      "outputs": []
    },
    {
      "cell_type": "code",
      "source": [
        "    import math # imports the math module\n",
        "    print(math.sqrt(16)) # use the sqrt function from the math module"
      ],
      "metadata": {
        "colab": {
          "base_uri": "https://localhost:8080/"
        },
        "id": "arumGx0DMARS",
        "outputId": "0aad1a91-40b7-4180-8e2e-8fbebe25f87c"
      },
      "execution_count": 14,
      "outputs": [
        {
          "output_type": "stream",
          "name": "stdout",
          "text": [
            "4.0\n"
          ]
        }
      ]
    },
    {
      "cell_type": "markdown",
      "source": [
        "Q 3.Compare and contrast mutable and immutable objects in Python with examples\n",
        "- In Python, mutable objects allow modification after creation\n",
        "\n",
        "e.g., lists, dictionaries,\n",
        "\n",
        " immutable objects\n",
        "  . Immutability ensures data integrity and can simplify code, but mutability provides flexibility for dynamic updates.\n",
        "\n",
        "  (e.g., strings, tuples)\n",
        "\n",
        "Mutable Objects:\n",
        "\n",
        "Mutable objects are those whose values can be changed after they are created.\n",
        "\n",
        "Immutable Objects:\n",
        "\n",
        "Immutable objects are those whose values cannot be changed after they are created.\n",
        "\n"
      ],
      "metadata": {
        "id": "edKUShqjMFCy"
      }
    },
    {
      "cell_type": "code",
      "source": [
        "#Example of mutable objects\n",
        "#Lists: my_list = [1, 2, 3]; my_list.append(4)\n",
        "#Dictionaries: my_dict = {'a': 1}; my_dict['b'] = 2\n",
        "#Sets: my_set = {1, 2}; my_set.add(3)"
      ],
      "metadata": {
        "id": "g9cDl4uCOoWj"
      },
      "execution_count": 16,
      "outputs": []
    },
    {
      "cell_type": "code",
      "source": [
        "#Example of immutable object\n",
        "#Strings: my_string = \"hello\"; my_string = my_string + \" world\" (creates a new string, not modifying the original)\n",
        "#Tuples: my_tuple = (1, 2, 3); # my_tuple[0] = 4 # This will raise an error\n",
        "#Integers, Floats, Booleans: These are also immutable."
      ],
      "metadata": {
        "id": "qXsJNt8bO8RD"
      },
      "execution_count": 17,
      "outputs": []
    },
    {
      "cell_type": "markdown",
      "source": [
        "Q 4.0 Discuss the different types of operators in Python and provide examples of how they are used\n",
        "\n",
        "- In Python, operators are special symbols or keywords that carry out operations on values and python variables.They serve as a basis for expressions, which are used to modify data and execute computations.Python contains several operators, each with its unique purpose.\n",
        "\n",
        "**Types of Python Operator**s\n",
        "\n",
        "1.Arithmetic Operators\n",
        "\n",
        "2.Comparison (Relational) Operators\n",
        "\n",
        "3.Assignment Operators\n",
        "\n",
        "4.Logical Operators\n",
        "\n",
        "5.Bitwise Operators\n",
        "\n",
        "6.Membership Operators\n",
        "\n",
        "7.Identity Operators\n",
        "\n",
        "\n"
      ],
      "metadata": {
        "id": "kLfrteopPXW5"
      }
    },
    {
      "cell_type": "markdown",
      "source": [
        "1. **Python Arithmetic Operators**\n",
        "\n",
        "Mathematical operations including addition, subtraction, multiplication, and division are commonly carried out using Python arithmetic operators.\n",
        "They are compatible with integers, variables, and expressions.\n",
        "In addition to the standard arithmetic operators, there are operators for modulus, exponentiation, and floor division."
      ],
      "metadata": {
        "id": "C2Y622ZURsDt"
      }
    },
    {
      "cell_type": "code",
      "source": [
        "a = 21\n",
        "b = 10\n",
        "# Addition\n",
        "print (\"a + b : \", a + b)\n",
        "# Subtraction\n",
        "print (\"a - b : \", a - b)\n",
        "# Multiplication\n",
        "print (\"a * b : \", a * b)\n",
        "# Division\n",
        "print (\"a / b : \", a / b)\n",
        "# Modulus\n",
        "print (\"a % b : \", a % b)\n",
        "# Exponent\n",
        "print (\"a ** b : \", a ** b)\n",
        "# Floor Division\n",
        "print (\"a // b : \", a // b)\n"
      ],
      "metadata": {
        "colab": {
          "base_uri": "https://localhost:8080/"
        },
        "id": "GdNhXRVURwQV",
        "outputId": "ef3179a5-d150-4e3c-8f34-ea1771e073f9"
      },
      "execution_count": 20,
      "outputs": [
        {
          "output_type": "stream",
          "name": "stdout",
          "text": [
            "a + b :  31\n",
            "a - b :  11\n",
            "a * b :  210\n",
            "a / b :  2.1\n",
            "a % b :  1\n",
            "a ** b :  16679880978201\n",
            "a // b :  2\n"
          ]
        }
      ]
    },
    {
      "cell_type": "markdown",
      "source": [
        "2.** Python Comparison Operators**\n",
        "\n",
        "To compare two values, Python comparison operators are needed.\n",
        "Based on the comparison, they produce a Boolean value (True or False)."
      ],
      "metadata": {
        "id": "pMMqt4E-R5c0"
      }
    },
    {
      "cell_type": "code",
      "source": [
        "a = 4\n",
        "b = 5\n",
        "# Equal\n",
        "print (\"a == b : \", a == b)\n",
        "# Not Equal\n",
        "print (\"a != b : \", a != b)\n",
        "# Greater Than\n",
        "print (\"a > b : \", a > b)\n",
        "# Less Than\n",
        "print (\"a < b : \", a < b)\n",
        "# Greater Than or Equal to\n",
        "print (\"a >= b : \", a >= b)\n",
        "# Less Than or Equal to\n",
        "print (\"a <= b : \", a <= b)\n"
      ],
      "metadata": {
        "colab": {
          "base_uri": "https://localhost:8080/"
        },
        "id": "FIRZt9aOR0UF",
        "outputId": "b3954cfd-f5ec-41af-b469-3043c18f4ac7"
      },
      "execution_count": 21,
      "outputs": [
        {
          "output_type": "stream",
          "name": "stdout",
          "text": [
            "a == b :  False\n",
            "a != b :  True\n",
            "a > b :  False\n",
            "a < b :  True\n",
            "a >= b :  False\n",
            "a <= b :  True\n"
          ]
        }
      ]
    },
    {
      "cell_type": "markdown",
      "source": [
        "3.** Python Assignment Operators**\n",
        "\n",
        "Python assignment operators are used to assign values to variables in Python.\n",
        "The single equal symbol (=) is the most fundamental assignment operator.\n",
        "It assigns the value on the operator's right side to the variable on the operator's left side.\n"
      ],
      "metadata": {
        "id": "vq8zOBZLSFeL"
      }
    },
    {
      "cell_type": "code",
      "source": [
        "# Assignment Operator\n",
        "a = 10\n",
        "# Addition Assignment\n",
        "a += 5\n",
        "print (\"a += 5 : \", a)\n",
        "# Subtraction Assignment\n",
        "a -= 5\n",
        "print (\"a -= 5 : \", a)\n",
        "# Multiplication Assignment\n",
        "a *= 5\n",
        "print (\"a *= 5 : \", a)\n",
        "# Division Assignment\n",
        "a /= 5\n",
        "print (\"a /= 5 : \",a)\n",
        "# Remainder Assignment\n",
        "a %= 3\n",
        "print (\"a %= 3 : \", a)\n",
        "# Exponent Assignment\n",
        "a **= 2\n",
        "print (\"a **= 2 : \", a)\n",
        "# Floor Division Assignment\n",
        "a //= 3\n",
        "print (\"a //= 3 : \", a)"
      ],
      "metadata": {
        "colab": {
          "base_uri": "https://localhost:8080/"
        },
        "id": "5Bn1lOKASL8Q",
        "outputId": "f78b552e-35eb-4fab-c8a4-413b0e59be46"
      },
      "execution_count": 22,
      "outputs": [
        {
          "output_type": "stream",
          "name": "stdout",
          "text": [
            "a += 5 :  15\n",
            "a -= 5 :  10\n",
            "a *= 5 :  50\n",
            "a /= 5 :  10.0\n",
            "a %= 3 :  1.0\n",
            "a **= 2 :  1.0\n",
            "a //= 3 :  0.0\n"
          ]
        }
      ]
    },
    {
      "cell_type": "markdown",
      "source": [
        "4. **Python Bitwise**\n",
        "\n",
        "Python bitwise operators execute operations on individual bits of binary integers.\n",
        "They work with integer binary representations, performing logical operations on each bit location.\n",
        "Python includes various bitwise operators, such as AND (&), OR (|), NOT (), XOR (), left shift (), and right shift (>>)."
      ],
      "metadata": {
        "id": "K7xonGdzSR-Q"
      }
    },
    {
      "cell_type": "code",
      "source": [
        "a = 60 # 60 = 0011 1100\n",
        "b = 13 # 13 = 0000 1101\n",
        "# Binary AND\n",
        "c = a & b # 12 = 0000 1100\n",
        "print (\"a & b : \", c)\n",
        "# Binary OR\n",
        "c = a | b # 61 = 0011 1101\n",
        "print (\"a | b : \", c)\n",
        "# Binary XOR\n",
        "c = a ^ b # 49 = 0011 0001\n",
        "print (\"a ^ b : \", c)\n",
        "# Binary Ones Complement\n",
        "c = ~a; # -61 = 1100 0011\n",
        "print (\"~a : \", c)\n",
        "# Binary Left Shift\n",
        "c = a << 2; # 240 = 1111 0000\n",
        "print (\"a << 2 : \", c)\n",
        "# Binary Right Shift\n",
        "c = a >> 2; # 15 = 0000 1111\n",
        "print (\"a >> 2 : \", c)"
      ],
      "metadata": {
        "colab": {
          "base_uri": "https://localhost:8080/"
        },
        "id": "cZZv4TSaSaGp",
        "outputId": "81ce308b-3e00-40f3-da4d-9d078888647c"
      },
      "execution_count": 23,
      "outputs": [
        {
          "output_type": "stream",
          "name": "stdout",
          "text": [
            "a & b :  12\n",
            "a | b :  61\n",
            "a ^ b :  49\n",
            "~a :  -61\n",
            "a << 2 :  240\n",
            "a >> 2 :  15\n"
          ]
        }
      ]
    },
    {
      "cell_type": "code",
      "source": [],
      "metadata": {
        "id": "UziaPYWfSj_b"
      },
      "execution_count": null,
      "outputs": []
    },
    {
      "cell_type": "markdown",
      "source": [
        "**5. Python Logical Operators**\n",
        "\n",
        "Python logical operators are used to compose Boolean expressions and evaluate their truth values.\n",
        "They are required for the creation of conditional statements as well as for managing the flow of execution in programs.\n",
        "Python has three basic logical operators: AND, OR, and NOT."
      ],
      "metadata": {
        "id": "IpmNDifVSlWb"
      }
    },
    {
      "cell_type": "code",
      "source": [
        "x = 5\n",
        "y = 10\n",
        "if x > 3 and y < 15:\n",
        "  print(\"Both x and y are within the specified range\")"
      ],
      "metadata": {
        "colab": {
          "base_uri": "https://localhost:8080/"
        },
        "id": "nigSQD0xStxp",
        "outputId": "8fdd8e01-7fc8-4e79-a31f-8ef501b97345"
      },
      "execution_count": 24,
      "outputs": [
        {
          "output_type": "stream",
          "name": "stdout",
          "text": [
            "Both x and y are within the specified range\n"
          ]
        }
      ]
    },
    {
      "cell_type": "markdown",
      "source": [
        "6. **Python Membership Operators**\n",
        "\n",
        "Python membership operators are used to determine whether or not a certain value occurs within a sequence.\n",
        "They make it simple to determine the membership of elements in various Python data structures such as lists, tuples, sets, and strings.\n",
        "Python has two primary membership operators: the in and not in operators.\n",
        "\n"
      ],
      "metadata": {
        "id": "ZVAETAaySxhl"
      }
    },
    {
      "cell_type": "code",
      "source": [
        "fruits = [\"apple\", \"banana\", \"cherry\"]\n",
        "if \"banana\" in fruits:\n",
        "    print(\"Yes, banana is a fruit!\")\n",
        "else:\n",
        "    print(\"No, banana is not a fruit!\")"
      ],
      "metadata": {
        "colab": {
          "base_uri": "https://localhost:8080/"
        },
        "id": "ovd8QGpcS9_F",
        "outputId": "37e62afc-1528-4148-937e-accf4ff3bdd6"
      },
      "execution_count": 25,
      "outputs": [
        {
          "output_type": "stream",
          "name": "stdout",
          "text": [
            "Yes, banana is a fruit!\n"
          ]
        }
      ]
    },
    {
      "cell_type": "markdown",
      "source": [
        "7. **Python Identity Operators**\n",
        "\n",
        "Python identity operators are used to compare two objects' memory addresses rather than their values.\n",
        "If the two objects refer to the same memory address, they evaluate to True; otherwise, they evaluate to False.\n",
        "Python includes two identity operators: the is and is not operators."
      ],
      "metadata": {
        "id": "RkIkEAVfTGHG"
      }
    },
    {
      "cell_type": "code",
      "source": [
        "x = 10\n",
        "y = 5\n",
        "if x is y:\n",
        "    print(\"x and y are the same object\")\n",
        "else:\n",
        "    print(\"x and y are not the same object\")"
      ],
      "metadata": {
        "colab": {
          "base_uri": "https://localhost:8080/"
        },
        "id": "gMrXdK8YTLab",
        "outputId": "dbf34dd8-ef68-4154-b69c-2e5ad25d832e"
      },
      "execution_count": 26,
      "outputs": [
        {
          "output_type": "stream",
          "name": "stdout",
          "text": [
            "x and y are not the same object\n"
          ]
        }
      ]
    },
    {
      "cell_type": "markdown",
      "source": [
        "Q 5.Explain the concept of type casting in Python with examples.\n",
        "-  In Python, type casting  is the process of converting a value from one data type to another, either implicitly or explicitly\n"
      ],
      "metadata": {
        "id": "FxtzR0-XTgsm"
      }
    },
    {
      "cell_type": "markdown",
      "source": [
        "**Implicit Type Casting:**\n",
        "\n",
        "Python automatically converts data types when necessary, especially when dealing with different types in an operation, to prevent data loss."
      ],
      "metadata": {
        "id": "kFUDLnpJUL7L"
      }
    },
    {
      "cell_type": "code",
      "source": [
        "    a = 10  # Integer\n",
        "    b = 2.5 # Float\n",
        "    c = a + b # Python automatically converts a to float to perform the addition\n",
        "    print(c) # Output: 12.5\n",
        "    print(type(c)) # Output: <class 'float'>"
      ],
      "metadata": {
        "colab": {
          "base_uri": "https://localhost:8080/"
        },
        "id": "XbiutRThUSq-",
        "outputId": "a0061e2e-cbc9-4277-c69d-61e884fccae5"
      },
      "execution_count": 27,
      "outputs": [
        {
          "output_type": "stream",
          "name": "stdout",
          "text": [
            "12.5\n",
            "<class 'float'>\n"
          ]
        }
      ]
    },
    {
      "cell_type": "markdown",
      "source": [
        "**Explicit Type Casting:**\n",
        "\n",
        "You use built-in functions like int(), float(), str(), bool() to manually convert data types."
      ],
      "metadata": {
        "id": "AHxXpsWkUcWa"
      }
    },
    {
      "cell_type": "code",
      "source": [
        "    # Integer to Float\n",
        "    x = 5\n",
        "    y = float(x)  # Converts x to a float\n",
        "    print(y) # Output: 5.0\n",
        "    print(type(y)) # Output: <class 'float'>\n",
        "\n",
        "    # Float to Integer (truncates decimal part)\n",
        "    z = 3.14\n",
        "    w = int(z)  # Converts z to an integer\n",
        "    print(w) # Output: 3\n",
        "    print(type(w)) # Output: <class 'int'>\n",
        "\n",
        "    # Integer to String\n",
        "    num = 42\n",
        "    text = str(num)  # Converts num to a string\n",
        "    print(text) # Output: 42\n",
        "    print(type(text)) # Output: <class 'str'>\n",
        "\n",
        "    # String to Integer\n",
        "    age_str = \"25\"\n",
        "    age_int = int(age_str) # Converts age_str to an integer\n",
        "    print(age_int) # Output: 25\n",
        "    print(type(age_int)) # Output: <class 'int'>\n",
        "\n",
        "    # String to Float\n",
        "    price_str = \"19.99\"\n",
        "    price_float = float(price_str) # Converts price_str to a float\n",
        "    print(price_float) # Output: 19.99\n",
        "    print(type(price_float)) # Output: <class 'float'>"
      ],
      "metadata": {
        "colab": {
          "base_uri": "https://localhost:8080/"
        },
        "id": "Ypeg78H3UmDh",
        "outputId": "02d0dcb5-9ff0-4cd6-d5b3-deb2083e32e2"
      },
      "execution_count": 28,
      "outputs": [
        {
          "output_type": "stream",
          "name": "stdout",
          "text": [
            "5.0\n",
            "<class 'float'>\n",
            "3\n",
            "<class 'int'>\n",
            "42\n",
            "<class 'str'>\n",
            "25\n",
            "<class 'int'>\n",
            "19.99\n",
            "<class 'float'>\n"
          ]
        }
      ]
    },
    {
      "cell_type": "markdown",
      "source": [
        "Q 6.How do conditional statements work in Python? Illustrate with examples\n",
        "\n",
        "- Conditional statements are an essential part of programming in Python.\n",
        "They allow you to make decisions based on the values of variables or the result of comparisons"
      ],
      "metadata": {
        "id": "k1bGBhuRUrJY"
      }
    },
    {
      "cell_type": "markdown",
      "source": [
        "Use the if Statement"
      ],
      "metadata": {
        "id": "wKezWYH8VwAy"
      }
    },
    {
      "cell_type": "code",
      "source": [
        "num = 5\n",
        "\n",
        "if num > 0:\n",
        "    print(\"The number is positive.\")"
      ],
      "metadata": {
        "colab": {
          "base_uri": "https://localhost:8080/"
        },
        "id": "WIoQ6SkEVwrn",
        "outputId": "765473f0-da1b-4339-f447-ac19ae7b98ef"
      },
      "execution_count": 29,
      "outputs": [
        {
          "output_type": "stream",
          "name": "stdout",
          "text": [
            "The number is positive.\n"
          ]
        }
      ]
    },
    {
      "cell_type": "markdown",
      "source": [
        " Use the else Statement"
      ],
      "metadata": {
        "id": "eCMHQPKmV20v"
      }
    },
    {
      "cell_type": "code",
      "source": [
        "num = -5\n",
        "\n",
        "if num > 0:\n",
        "    print(\"The number is positive.\")\n",
        "else:\n",
        "    print(\"The number is negative.\")"
      ],
      "metadata": {
        "colab": {
          "base_uri": "https://localhost:8080/"
        },
        "id": "y9ADCb3gV6om",
        "outputId": "52abd66a-e4d4-418c-c833-40bdb927a292"
      },
      "execution_count": 30,
      "outputs": [
        {
          "output_type": "stream",
          "name": "stdout",
          "text": [
            "The number is negative.\n"
          ]
        }
      ]
    },
    {
      "cell_type": "markdown",
      "source": [
        "Use the elif Statement"
      ],
      "metadata": {
        "id": "VnypmBCtXNrQ"
      }
    },
    {
      "cell_type": "code",
      "source": [
        "    score = 85\n",
        "    if score >= 90:\n",
        "        print(\"Excellent!\")\n",
        "    elif score >= 70:\n",
        "        print(\"Good job!\")\n",
        "    elif score >= 60:\n",
        "        print(\"Needs Improvement\")\n",
        "    else:\n",
        "        print(\"Failed\")"
      ],
      "metadata": {
        "colab": {
          "base_uri": "https://localhost:8080/"
        },
        "id": "Ac259kaeXSPg",
        "outputId": "805d2081-471b-466c-fa26-4d109f1f650f"
      },
      "execution_count": 36,
      "outputs": [
        {
          "output_type": "stream",
          "name": "stdout",
          "text": [
            "Good job!\n"
          ]
        }
      ]
    },
    {
      "cell_type": "markdown",
      "source": [
        "Q 7. Describe the different types of loops in Python and their use cases with examples\n",
        "- Python offers two primary loop types:\n",
        "\n",
        " for and while, each serving distinct purposes. for loops iterate over a sequence (like lists, tuples, strings) or an iterable, while while loops execute code repeatedly as long as a condition remains true."
      ],
      "metadata": {
        "id": "9C9kj6DOXWOS"
      }
    },
    {
      "cell_type": "markdown",
      "source": [
        ". for Loop:\n",
        "Purpose: Iterates over a sequence or iterable (e.g., lists, strings, tuples).\n",
        "Syntax:\n",
        " for item in iterable:\n",
        "        # Code to be executed for each item"
      ],
      "metadata": {
        "id": "QFMpE2PPYFqI"
      }
    },
    {
      "cell_type": "code",
      "source": [
        "        fruits = [\"apple\", \"banana\", \"cherry\"]\n",
        "        for fruit in fruits:\n",
        "            print(fruit)"
      ],
      "metadata": {
        "colab": {
          "base_uri": "https://localhost:8080/"
        },
        "id": "JD5HkMO3YeNA",
        "outputId": "fc0e1652-6117-4a74-aca3-1fefeab40bce"
      },
      "execution_count": 38,
      "outputs": [
        {
          "output_type": "stream",
          "name": "stdout",
          "text": [
            "apple\n",
            "banana\n",
            "cherry\n"
          ]
        }
      ]
    },
    {
      "cell_type": "code",
      "source": [
        "        word = \"hello\"\n",
        "        for char in word:\n",
        "            print(char)"
      ],
      "metadata": {
        "colab": {
          "base_uri": "https://localhost:8080/"
        },
        "id": "90jktmn7Yk19",
        "outputId": "833318c1-f5b3-4d9c-8122-54fd1ed63c8a"
      },
      "execution_count": 39,
      "outputs": [
        {
          "output_type": "stream",
          "name": "stdout",
          "text": [
            "h\n",
            "e\n",
            "l\n",
            "l\n",
            "o\n"
          ]
        }
      ]
    },
    {
      "cell_type": "code",
      "source": [
        "        numbers = [1, 2, 3, 4, 5]\n",
        "        for number in numbers:\n",
        "            print(number * 2)"
      ],
      "metadata": {
        "colab": {
          "base_uri": "https://localhost:8080/"
        },
        "id": "QpysPWuDYoFY",
        "outputId": "3744694b-2ddf-43ad-b0fb-0787a3b2219d"
      },
      "execution_count": 40,
      "outputs": [
        {
          "output_type": "stream",
          "name": "stdout",
          "text": [
            "2\n",
            "4\n",
            "6\n",
            "8\n",
            "10\n"
          ]
        }
      ]
    },
    {
      "cell_type": "markdown",
      "source": [
        "2. while Loop:\n",
        "Purpose: Executes a block of code repeatedly as long as a condition is true.\n",
        "Syntax:     while condition:\n",
        "        # Code to be executed"
      ],
      "metadata": {
        "id": "aV3SWx17YtPU"
      }
    },
    {
      "cell_type": "code",
      "source": [
        "        count = 0\n",
        "        while count < 5:\n",
        "            print(count)\n",
        "            count += 1"
      ],
      "metadata": {
        "colab": {
          "base_uri": "https://localhost:8080/"
        },
        "id": "OZurlUFhZGnH",
        "outputId": "be88c135-8dbe-42fe-b8c7-bbc970cc6215"
      },
      "execution_count": 41,
      "outputs": [
        {
          "output_type": "stream",
          "name": "stdout",
          "text": [
            "0\n",
            "1\n",
            "2\n",
            "3\n",
            "4\n"
          ]
        }
      ]
    },
    {
      "cell_type": "code",
      "source": [
        "        while True:\n",
        "            user_input = input(\"Enter a number (or 'q' to quit): \")\n",
        "            if user_input.lower() == 'q':\n",
        "                break\n",
        "            try:\n",
        "                number = int(user_input)\n",
        "                print(\"You entered:\", number)\n",
        "                break  # Exit the loop if valid input is entered\n",
        "            except ValueError:\n",
        "                print(\"Invalid input. Please enter a number or 'q'.\")"
      ],
      "metadata": {
        "colab": {
          "base_uri": "https://localhost:8080/"
        },
        "id": "zYlNGdA-ZJ5p",
        "outputId": "f156a667-1e4c-4928-921d-db08c3ba0f2c"
      },
      "execution_count": 42,
      "outputs": [
        {
          "name": "stdout",
          "output_type": "stream",
          "text": [
            "Enter a number (or 'q' to quit): q\n"
          ]
        }
      ]
    },
    {
      "cell_type": "code",
      "source": [],
      "metadata": {
        "id": "57LipOX_Zbd6"
      },
      "execution_count": null,
      "outputs": []
    }
  ]
}